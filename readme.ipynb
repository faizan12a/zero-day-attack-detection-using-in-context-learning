{
 "cells": [
  {
   "cell_type": "markdown",
   "metadata": {},
   "source": [
    "Below is the step wise procedure of training and testing the transformer models."
   ]
  },
  {
   "cell_type": "markdown",
   "metadata": {},
   "source": [
    "## Setting the Base Directory\n"
   ]
  },
  {
   "cell_type": "code",
   "execution_count": null,
   "metadata": {},
   "outputs": [],
   "source": [
    "BASE_DIR=\"/home/x/programs/my_project\""
   ]
  },
  {
   "cell_type": "markdown",
   "metadata": {},
   "source": [
    "## Import training and testing CSV files \n",
    "from ERENO dataset (\"https://www.kaggle.com/datasets/sequincozes/ereno-iec61850-ids\") into\n",
    "\n",
    "{BASE_DIR}/data/raw"
   ]
  },
  {
   "cell_type": "markdown",
   "metadata": {},
   "source": [
    "## Preprocess Raw Data\n",
    "\n",
    "To train weak classifiers, baselines and transformers.\n",
    "\n"
   ]
  },
  {
   "cell_type": "code",
   "execution_count": null,
   "metadata": {},
   "outputs": [],
   "source": [
    "%cd {BASE_DIR}/scr/preprocessing/preprocessing_raw\n",
    "%run main_preprocessing.py --config preprocessing_transformers_config.json --base_path {BASE_DIR}\n",
    "%run main_preprocessing.py --config preprocessing_weak_classifiers_config.json --base_path {BASE_DIR}"
   ]
  },
  {
   "cell_type": "markdown",
   "metadata": {},
   "source": [
    "## Perform Multimixing\n",
    "for Transformers and Weak Classifiers\n",
    "\n",
    "Set tasks (data diversity), Length (length of multimixed dataset), and Z_Constant (define distribution of multimixed dataset)\n",
    "\n",
    "Note. In the scripts, we have predefined In Distribution data"
   ]
  },
  {
   "cell_type": "code",
   "execution_count": null,
   "metadata": {},
   "outputs": [],
   "source": [
    "tasks = 700\n",
    "Length = 150000\n",
    "Z_Constant = 0.65"
   ]
  },
  {
   "cell_type": "code",
   "execution_count": null,
   "metadata": {},
   "outputs": [],
   "source": [
    "%cd {BASE_DIR}/scr/preprocessing/mult_mixing\n",
    "%run multi_mixing.py --config training_transformers_multi_mixing_config.json --tasks {tasks} --Length {Length} --Z_Constant {Z_Constant} --base_path {BASE_DIR}\n",
    "%run multi_mixing.py --config training_weak_classifiers_multi_mixing_config.json --tasks {tasks} --Length {Length} --Z_Constant {Z_Constant} --base_path {BASE_DIR}\n"
   ]
  },
  {
   "cell_type": "markdown",
   "metadata": {},
   "source": [
    "## Train Weak Classifiers\n",
    "for Transformers Training\n"
   ]
  },
  {
   "cell_type": "code",
   "execution_count": null,
   "metadata": {},
   "outputs": [],
   "source": [
    "tasks = 700\n",
    "Z_Constant = 0.65\n",
    "\n",
    "num_models = 30\n",
    "batch_size = 256\n",
    "lr = 0.0005\n",
    "num_epochs = 3\n",
    "\n",
    "%cd {BASE_DIR}/scr/train_weak_classifiers\n",
    "%run main.py --config config.json --batch_size {batch_size} --learning_rate {lr} --num_epochs {num_epochs} --tasks {tasks} --Z_Constant {Z_Constant} --num_models {num_models} --base_path {BASE_DIR}"
   ]
  },
  {
   "cell_type": "markdown",
   "metadata": {},
   "source": [
    "## Generate Labels/Probability Distributions for Transformer Training\n",
    "from trained weak classifiers\n",
    "\n",
    "Note. Initially we generate only distribution. Later we use argmax function to convert them into hard labels"
   ]
  },
  {
   "cell_type": "code",
   "execution_count": null,
   "metadata": {},
   "outputs": [],
   "source": [
    "tasks = 700\n",
    "Z_Constant = 0.65\n",
    "\n",
    "batch_size_dist = 5000 # We randomly select weak classifiers in batches\n",
    "\n",
    "%cd {BASE_DIR}/scr/preprocessing/run_weak_classifiers\n",
    "%run run_weak_classifiers.py --config run_weak_classifiers_config.json --base_path {BASE_DIR} --tasks {tasks} --batch_size {batch_size_dist} --Z_Constant {Z_Constant}"
   ]
  },
  {
   "cell_type": "markdown",
   "metadata": {},
   "source": [
    "## Train Transformer Model"
   ]
  },
  {
   "cell_type": "code",
   "execution_count": null,
   "metadata": {},
   "outputs": [],
   "source": [
    "tasks = 700\n",
    "Length = 200000\n",
    "Z_Constant = 0.65\n",
    "\n",
    "tf_num_models = 1\n",
    "tf_batch_size = 200\n",
    "tf_epochs = 4\n",
    "\n",
    "%cd {BASE_DIR}/scr/train_transformers"
   ]
  },
  {
   "cell_type": "markdown",
   "metadata": {},
   "source": [
    "## Distributional Transformer (DTF)"
   ]
  },
  {
   "cell_type": "markdown",
   "metadata": {},
   "source": [
    "Mix Trained DTF (MDTF)"
   ]
  },
  {
   "cell_type": "code",
   "execution_count": null,
   "metadata": {},
   "outputs": [],
   "source": [
    "%run main.py --config mdtf_config.json --base_path {BASE_DIR} --tasks {tasks} --Z_Constant {Z_Constant} --batch_size {tf_batch_size} --num_models {tf_num_models} --num_epochs {tf_epochs}\n"
   ]
  },
  {
   "cell_type": "markdown",
   "metadata": {},
   "source": [
    "Weak Classifier Trained DTF (WCTF)"
   ]
  },
  {
   "cell_type": "code",
   "execution_count": null,
   "metadata": {},
   "outputs": [],
   "source": [
    "%run main.py --config wcdtf_config.json --base_path {BASE_DIR} --tasks {tasks} --Z_Constant {Z_Constant} --batch_size {tf_batch_size} --num_models {tf_num_models} --num_epochs {tf_epochs}\n"
   ]
  },
  {
   "cell_type": "markdown",
   "metadata": {},
   "source": [
    "## Simple Transformer (TF)"
   ]
  },
  {
   "cell_type": "code",
   "execution_count": 16,
   "metadata": {},
   "outputs": [],
   "source": [
    "tasks = 700\n",
    "Z_Constant = 0.65\n",
    "\n",
    "tf_num_models = 1\n",
    "tf_batch_size = 200\n",
    "tf_epochs = 4"
   ]
  },
  {
   "cell_type": "markdown",
   "metadata": {},
   "source": [
    "Mix Trained TF (MTF)"
   ]
  },
  {
   "cell_type": "code",
   "execution_count": null,
   "metadata": {},
   "outputs": [],
   "source": [
    "%run main.py --config mtf_config.json --base_path {BASE_DIR} --tasks {tasks} --Z_Constant {Z_Constant} --batch_size {tf_batch_size} --num_models {tf_num_models} --num_epochs {tf_epochs}\n"
   ]
  },
  {
   "cell_type": "markdown",
   "metadata": {},
   "source": [
    "Weak Classifier Trained TF (WCTF)"
   ]
  },
  {
   "cell_type": "code",
   "execution_count": null,
   "metadata": {},
   "outputs": [],
   "source": [
    "%run main.py --config wctf_config.json --base_path {BASE_DIR} --tasks {tasks} --Z_Constant {Z_Constant} --batch_size {tf_batch_size} --num_models {tf_num_models} --num_epochs {tf_epochs}\n"
   ]
  },
  {
   "cell_type": "markdown",
   "metadata": {},
   "source": [
    "## Train Weak Classifiers for testing\n",
    "\n",
    "note. The least task diversity we have tested on is 100.\n",
    "\n",
    "Hence we test all transformer models (for all tesk diversity) with weak classifiers trained on task diversity 100."
   ]
  },
  {
   "cell_type": "code",
   "execution_count": null,
   "metadata": {},
   "outputs": [],
   "source": [
    "testing_wc_tasks = 100\n",
    "testing_wc_Length = 100000\n",
    "testing_wc_Z_Constant = 0.55\n",
    "\n",
    "%cd {BASE_DIR}/scr/preprocessing/mult_mixing\n",
    "%run multi_mixing.py --config training_weak_classifiers_multi_mixing_config.json --tasks {testing_wc_tasks} --Length {testing_wc_Length} --Z_Constant {testing_wc_Z_Constant} --base_path {BASE_DIR}\n"
   ]
  },
  {
   "cell_type": "code",
   "execution_count": null,
   "metadata": {},
   "outputs": [],
   "source": [
    "testing_wc_num_models = 10\n",
    "testing_wc_batch_size = 250\n",
    "testing_wc_lr = 0.0005\n",
    "testing_wc_num_epochs = 3\n",
    "\n",
    "%cd {BASE_DIR}/scr/train_weak_classifiers\n",
    "%run main.py --config config.json --batch_size {testing_wc_batch_size} --learning_rate {testing_wc_lr} --num_epochs {testing_wc_num_epochs} --tasks {testing_wc_tasks} --Z_Constant {testing_wc_Z_Constant} --num_models {testing_wc_num_models} --base_path {BASE_DIR}"
   ]
  },
  {
   "cell_type": "code",
   "execution_count": null,
   "metadata": {},
   "outputs": [],
   "source": [
    "\n",
    "%cd {BASE_DIR}/scr/preprocessing/run_weak_classifiers\n",
    "%run run_weak_classifiers_test.py --config run_weak_classifiers_test_config.json --base_path {BASE_DIR} --tasks {testing_wc_tasks} --Z_Constant {testing_wc_Z_Constant}"
   ]
  },
  {
   "cell_type": "markdown",
   "metadata": {},
   "source": [
    "## Test Transformer Models"
   ]
  },
  {
   "cell_type": "code",
   "execution_count": null,
   "metadata": {},
   "outputs": [],
   "source": [
    "testing_wc_tasks = 100\n",
    "testing_wc_Z_Constant = 0.55\n",
    "\n",
    "testing_tf_tasks = 700\n",
    "testing_tf_Z_Constant = 0.65\n",
    "\n",
    "\n",
    "%cd {eval('BASE_DIR')}/test/transformers"
   ]
  },
  {
   "cell_type": "markdown",
   "metadata": {},
   "source": [
    "## Distributional Transformer"
   ]
  },
  {
   "cell_type": "markdown",
   "metadata": {},
   "source": [
    "Mix Trained DTF (MDTF)"
   ]
  },
  {
   "cell_type": "code",
   "execution_count": null,
   "metadata": {},
   "outputs": [],
   "source": [
    "%run main.py --config mdtf_config.json --base_path {BASE_DIR} --wc_tasks {testing_wc_tasks} --wc_Z_Constant {testing_wc_Z_Constant} --tf_tasks {testing_tf_tasks} --tf_Z_Constant {testing_tf_Z_Constant}\n"
   ]
  },
  {
   "cell_type": "markdown",
   "metadata": {},
   "source": [
    "Weak Classifier Trained DTF (WCDTF)"
   ]
  },
  {
   "cell_type": "code",
   "execution_count": null,
   "metadata": {},
   "outputs": [],
   "source": [
    "%run main.py --config wcdtf_config.json --base_path {BASE_DIR} --wc_tasks {testing_wc_tasks} --wc_Z_Constant {testing_wc_Z_Constant} --tf_tasks {testing_tf_tasks} --tf_Z_Constant {testing_tf_Z_Constant}\n"
   ]
  },
  {
   "cell_type": "markdown",
   "metadata": {},
   "source": [
    "## Simple Transformer (TF)"
   ]
  },
  {
   "cell_type": "markdown",
   "metadata": {},
   "source": [
    "Mix Trained TF (MTF)"
   ]
  },
  {
   "cell_type": "code",
   "execution_count": null,
   "metadata": {},
   "outputs": [],
   "source": [
    "%run main.py --config mtf_config.json --base_path {BASE_DIR} --wc_tasks {testing_wc_tasks} --wc_Z_Constant {testing_wc_Z_Constant} --tf_tasks {testing_tf_tasks} --tf_Z_Constant {testing_tf_Z_Constant}"
   ]
  },
  {
   "cell_type": "markdown",
   "metadata": {},
   "source": [
    "Weak Classifier Trained TF (WCTF)"
   ]
  },
  {
   "cell_type": "code",
   "execution_count": null,
   "metadata": {},
   "outputs": [],
   "source": [
    "%run main.py --config wctf_config.json --base_path {BASE_DIR} --wc_tasks {testing_wc_tasks} --wc_Z_Constant {testing_wc_Z_Constant} --tf_tasks {testing_tf_tasks} --tf_Z_Constant {testing_tf_Z_Constant}\n"
   ]
  }
 ],
 "metadata": {
  "kernelspec": {
   "display_name": "base",
   "language": "python",
   "name": "python3"
  },
  "language_info": {
   "codemirror_mode": {
    "name": "ipython",
    "version": 3
   },
   "file_extension": ".py",
   "mimetype": "text/x-python",
   "name": "python",
   "nbconvert_exporter": "python",
   "pygments_lexer": "ipython3",
   "version": "3.11.5"
  }
 },
 "nbformat": 4,
 "nbformat_minor": 2
}
