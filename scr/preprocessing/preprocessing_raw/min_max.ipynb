{
 "cells": [
  {
   "cell_type": "code",
   "execution_count": 1,
   "metadata": {},
   "outputs": [],
   "source": [
    "import numpy as np"
   ]
  },
  {
   "cell_type": "code",
   "execution_count": 2,
   "metadata": {},
   "outputs": [],
   "source": [
    "x = np.load(\"/home/mfaizan/programs/my_project/data/transformers/training_preprocessed/GOOSE_normal_train.npy\")"
   ]
  },
  {
   "cell_type": "code",
   "execution_count": 3,
   "metadata": {},
   "outputs": [],
   "source": [
    "min = np.min(x,axis=0)\n",
    "max = np.max(x,axis =0)\n",
    "\n",
    "np.save(\"/home/mfaizan/programs/my_project/data/transformers/normalization/min.npy\",min[max-min != 0])\n",
    "np.save(\"/home/mfaizan/programs/my_project/data/transformers/normalization/max.npy\",max[max-min != 0])"
   ]
  },
  {
   "cell_type": "code",
   "execution_count": 4,
   "metadata": {},
   "outputs": [],
   "source": [
    "std = np.std(x,axis = 0)\n",
    "mean = np.mean(x,axis = 0)\n",
    "\n",
    "np.save(\"/home/mfaizan/programs/my_project/data/transformers/normalization/std.npy\",std[max-min != 0])\n",
    "np.save(\"/home/mfaizan/programs/my_project/data/transformers/normalization/mean.npy\",mean[max-min != 0])"
   ]
  },
  {
   "cell_type": "code",
   "execution_count": 5,
   "metadata": {},
   "outputs": [
    {
     "name": "stdout",
     "output_type": "stream",
     "text": [
      "1.0\n",
      "46\n"
     ]
    }
   ],
   "source": [
    "print(min[-1])\n",
    "print(len(std[max-min != 0]))"
   ]
  },
  {
   "cell_type": "code",
   "execution_count": 16,
   "metadata": {},
   "outputs": [],
   "source": [
    "x2 = np.load(\"/home/mfaizan/programs/my_project/data/transformers/training_multi_mixing/tasks_700/zipfian_constant_0.6/X.npy\")\n",
    "min2 = np.min(x2,axis=0)\n",
    "max2 = np.max(x2,axis=0)\n"
   ]
  },
  {
   "cell_type": "code",
   "execution_count": 18,
   "metadata": {},
   "outputs": [
    {
     "name": "stdout",
     "output_type": "stream",
     "text": [
      "0.0\n"
     ]
    }
   ],
   "source": [
    "print(min2[-1])"
   ]
  },
  {
   "cell_type": "code",
   "execution_count": null,
   "metadata": {},
   "outputs": [],
   "source": []
  }
 ],
 "metadata": {
  "kernelspec": {
   "display_name": "base",
   "language": "python",
   "name": "python3"
  },
  "language_info": {
   "codemirror_mode": {
    "name": "ipython",
    "version": 3
   },
   "file_extension": ".py",
   "mimetype": "text/x-python",
   "name": "python",
   "nbconvert_exporter": "python",
   "pygments_lexer": "ipython3",
   "version": "3.11.5"
  }
 },
 "nbformat": 4,
 "nbformat_minor": 2
}
